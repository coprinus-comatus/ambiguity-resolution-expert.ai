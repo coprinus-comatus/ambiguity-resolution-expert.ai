{
 "cells": [
  {
   "cell_type": "markdown",
   "metadata": {},
   "source": [
    "# A simple NLP application for ambiguity resolution with expert.ai\n",
    "\n",
    "How to resolve ambiguity for homographs and polysemy using expert.ai NLP technology\n",
    "\n",
    "Ambiguity is one of the biggest challenges in NLP. When trying to understand the meaning of a word we consider several different aspects, such as the context in which it is used, our own knowledge of the world, and how a given word is generally used in society. Words change meaning over time and can also mean one thing in a certain domain and another in a different one. This phenomenon can be observed in homographs - two words that happen to be written in the same way, usually coming from different etymologies - and polysemy - one word that carries different meanings.<br/>\n",
    "In this tutorial, we'll see how to resolve ambiguity in PoS tagging and semantic tagging, using expert.ai technology.\n",
    "\n",
    "## Before you start\n",
    "Please check how to install expert.ai NL API python SDK, either on this <a href='https://towardsdatascience.com/visualizing-what-docs-are-really-about-with-expert-ai-cd537e7a2798?showDomainSetup=true&gi=300077e01aa3'>Towards Data Science article</a> or on the official documentation, <a href='https://github.com/therealexpertai/nlapi-python#expertai-natural-language-api-for-python'>here</a>.\n",
    "\n",
    "## Part of Speech tagging\n",
    "Language is ambiguous: not only a sentence could be written in different ways and still convey the same v, but even lemmas - a concept that is supposed to be far less ambiguous - can carry different meanings. <br/>\n",
    "</br>\n",
    "For example the word <i>play</i> could refer to to several different things. Let's take a look at the following examples:</br>\n",
    "<i>I really enjoyed the play.</i></br>\n",
    "<i>I'm in a band and I play the guitar.</i></br>\n",
    "</br>\n",
    "Not only the same word can have different meanings, but it can be used in different roles: in the first sentence <i>play</i> is a noun, while in the second it's a verb. Assigning the correct grammatical label to each token is called PoS (Part of Speech) tagging and it's not a piece of cake.\n",
    "\n",
    "Let's see how to resolve PoS ambiguity with expert.ai - first let's import the library and create the client:"
   ]
  },
  {
   "cell_type": "code",
   "execution_count": 12,
   "metadata": {},
   "outputs": [],
   "source": [
    "from expertai.nlapi.cloud.client import ExpertAiClient\n",
    "client = ExpertAiClient()"
   ]
  },
  {
   "cell_type": "markdown",
   "metadata": {},
   "source": [
    "We'll see the PoS tagging for two sentences - notice how the lemma <i>key</i> is the same in both sentences, while its PoS changes:"
   ]
  },
  {
   "cell_type": "code",
   "execution_count": 1,
   "metadata": {},
   "outputs": [],
   "source": [
    "# Two sentences in which the same word, \"key\", has a different grammatical label\n",
    "key_as_noun = \"The key broke in the lock.\"\n",
    "key_as_adjective = \"The key problem was not one of quality but of quantity.\""
   ]
  },
  {
   "cell_type": "markdown",
   "metadata": {},
   "source": [
    "To analyze each sentence we need to create a request to NL API: the most important parameters - shown in the code below as well - are the text to analyze, the language, and the analysis we are requesting, represented by the resource parameter. <br/>\n",
    "Please notice that expert.ai NL API currently supports five languages (en, it, es, fr, de). The resource we use is the <i>disambiguation</i>, which performs multi-level tagging as product of the expert.ai NLP pipeline.<br/>\n",
    "Without further ado, let's create our first request:"
   ]
  },
  {
   "cell_type": "code",
   "execution_count": 4,
   "metadata": {},
   "outputs": [],
   "source": [
    "# Requesting  for the disambiguation of the first sentence, key_as_noun\n",
    "# Notice: the parameter for resource specifies the kind of exploration we want to perform on the documents.\n",
    "document = client.specific_resource_analysis(\n",
    "    body={\"document\": {\"text\": key_as_noun}}, \n",
    "    params={'language': 'en', 'resource': 'disambiguation'})"
   ]
  },
  {
   "cell_type": "markdown",
   "metadata": {},
   "source": [
    "Now we need to iterate over the PoS of the text and check which one was assigned to the lemma <i>key</i>:"
   ]
  },
  {
   "cell_type": "code",
   "execution_count": 5,
   "metadata": {},
   "outputs": [
    {
     "name": "stdout",
     "output_type": "stream",
     "text": [
      "Part of speech for \"The key broke in the lock.\"\n",
      "\n",
      "The            \tPOS: DET\n",
      "key            \tPOS: NOUN\n",
      "broke in       \tPOS: VERB\n",
      "the            \tPOS: DET\n",
      "lock           \tPOS: NOUN\n",
      ".              \tPOS: PUNCT\n"
     ]
    }
   ],
   "source": [
    "# Producing and printing PoS tagging of the first sentence\n",
    "# Notice: to retrieve the textual form of the element we use document.content with slicing on element start and end chars\n",
    "print(f'Parts of speech for \"{key_as_noun}\"\\n')\n",
    "for token in document.tokens:\n",
    "    print(f'{document.content[token.start:token.end]:{15}}\\tPOS: {token.pos}')"
   ]
  },
  {
   "cell_type": "markdown",
   "metadata": {},
   "source": [
    "What is printed above, is a list of PoS following <a href='https://universaldependencies.org/u/pos/'>UD Labels</a>, where <i>NOUN</i> indicates that the lemma <i>key</i> is here used as a noun.\n",
    "This should not be the case for its homograph that we see in the second sentence, in which <i>key</i> is used as an adjective:"
   ]
  },
  {
   "cell_type": "code",
   "execution_count": 6,
   "metadata": {},
   "outputs": [
    {
     "name": "stdout",
     "output_type": "stream",
     "text": [
      "Part of speech for \"The key problem was not one of quality but of quantity.\"\n",
      "\n",
      "The            \tPOS: DET\n",
      "key            \tPOS: ADJ\n",
      "problem        \tPOS: NOUN\n",
      "was            \tPOS: AUX\n",
      "not            \tPOS: PART\n",
      "one            \tPOS: NUM\n",
      "of             \tPOS: ADP\n",
      "quality        \tPOS: NOUN\n",
      "but            \tPOS: CCONJ\n",
      "of             \tPOS: ADP\n",
      "quantity       \tPOS: NOUN\n",
      ".              \tPOS: PUNCT\n"
     ]
    }
   ],
   "source": [
    "# Requesting for the disambiguation of the second sentence, key_as_adj\n",
    "document = client.specific_resource_analysis(\n",
    "    body={\"document\": {\"text\": key_as_adjective}}, \n",
    "    params={'language': 'en', 'resource': 'disambiguation'})\n",
    "\n",
    "# Producing and printing PoS tagging of the first sentence\n",
    "# Notice: to retrieve the textual form of the element we use document.content with slicing on element start and end chars\n",
    "print(f'Part of speech for \"{key_as_adjective}\"\\n')\n",
    "for token in document.tokens:\n",
    "    print(f'{document.content[token.start:token.end]:{15}}\\tPOS: {token.pos}')"
   ]
  },
  {
   "cell_type": "markdown",
   "metadata": {},
   "source": [
    "As you can see printed above, the lemma <i>key</i> was correctly recognized as an adjective in this sentence."
   ]
  },
  {
   "cell_type": "markdown",
   "metadata": {},
   "source": [
    "### Semantic tagging\n",
    "One word can also have the same grammatical label and have different meanings. This phenomenon is called polysemy. Being able to infer the correct meaning for each word is to perform semantic tagging.</br>\n",
    "</br>\n",
    "Words that are more common tend to have more meanings that have been added to them in time. For example, the lemma paper can have multiple meanings, as seen here:</br>\n",
    "<i>I like to take notes on paper.</i></br>\n",
    "<i>Every morning my husband reads the news from the local paper.</i></br>\n",
    "</br>\n",
    "Pointing out the correct meaning of each single lemma is an important task, as one document could change meaning or focus based on that. To do so, we must rely on technology that is well developed and robust, since semantic tagging heavily depends on many pieces of information that come from text.</br>\n",
    "</br>\n",
    "For semantic tagging IDs are often used: these IDs are identifiers of concepts, and each concept will have its own ID. For the same lemma, e.g. <i>paper</i>, we will have a certain id <i>x</i> for its meaning as a material, and another <i>y</i> for the meaning as newspaper.</br>\n",
    "These IDs are usually stored in a Knowledge Graph, that is a graph in which each node is a concept and the arches are the connections between concepts that follow a certain logics (e.g. an arch could link two concepts if one is the hyponym of the other).<br/>\n",
    "Let's now look at how expert.ai performs semantic tagging. We begin by choosing the sentences from which we will compare the two lemmas <i>solution</i>:"
   ]
  },
  {
   "cell_type": "code",
   "execution_count": 7,
   "metadata": {},
   "outputs": [],
   "source": [
    "solution_as_tactic = \"Work out the solution in your head.\"\n",
    "solution_as_chemical_mixture = \"Heat the chlorine solution to 75° Celsius.\""
   ]
  },
  {
   "cell_type": "markdown",
   "metadata": {},
   "source": [
    "And now the request for the first sentence - using the same parameters as the previous example:"
   ]
  },
  {
   "cell_type": "code",
   "execution_count": 8,
   "metadata": {},
   "outputs": [],
   "source": [
    "# Requesting disambiguation of the first sentence, solution_as_tactic\n",
    "# Notice: the parameter for resource specifies the kind of exploration we want to perform on our documents.\n",
    "document = client.specific_resource_analysis(\n",
    "    body={\"document\": {\"text\": solution_as_tactic}}, \n",
    "    params={'language': 'en', 'resource': 'disambiguation'})"
   ]
  },
  {
   "cell_type": "markdown",
   "metadata": {},
   "source": [
    "Semantic information is found in the <i>syncon</i> attribute for each token: a syncon is a concept, that is stored in expert.ai's Knowledge Graph; is concept is formed by one or more lemmas, that are synonyms. <br/>\n",
    "Let's see how the information is presented in the document object:"
   ]
  },
  {
   "cell_type": "code",
   "execution_count": 9,
   "metadata": {},
   "outputs": [
    {
     "name": "stdout",
     "output_type": "stream",
     "text": [
      "Semantic tagging for \"Work out the solution in your head.\"\n",
      "\n",
      "Work out       \tCONCEPT_ID: 63784\n",
      "the            \tCONCEPT_ID: -1\n",
      "solution       \tCONCEPT_ID: 25789\n",
      "in             \tCONCEPT_ID: -1\n",
      "your           \tCONCEPT_ID: -1\n",
      "head           \tCONCEPT_ID: 104906\n",
      ".              \tCONCEPT_ID: -1\n"
     ]
    }
   ],
   "source": [
    "# Producing and printing semantic tagging of the first sentence\n",
    "# Notice: to retrieve the textual form of the element we use document.content with slicing on element start and end chars\n",
    "print(f'Semantic tagging for \"{solution_as_tactic}\"\\n')\n",
    "for token in document.tokens:\n",
    "    print(f'{document.content[token.start:token.end]:{15}}\\tCONCEPT_ID: {token.syncon}')"
   ]
  },
  {
   "cell_type": "markdown",
   "metadata": {},
   "source": [
    "Each token has its own syncon, whereas some of them present -1 as concept id: this is the default ID assigned to tokens that do not have any concept, such as punctuation or articles.<br/>\n",
    "So, if for the previous sentence we obtain concept id 25789 for the lemma <i>solution</i>, for the second sentence we should obtain another one, since the two lemmas have different meaning in the two sentences:"
   ]
  },
  {
   "cell_type": "code",
   "execution_count": 10,
   "metadata": {},
   "outputs": [
    {
     "name": "stdout",
     "output_type": "stream",
     "text": [
      "Semantic tagging for \"Heat the chlorine solution to 75° Celsius.\"\n",
      "\n",
      "Heat           \tCONCEPT_ID: 64278\n",
      "the            \tCONCEPT_ID: -1\n",
      "chlorine       \tCONCEPT_ID: 59954\n",
      "solution       \tCONCEPT_ID: 59795\n",
      "to             \tCONCEPT_ID: -1\n",
      "75             \tCONCEPT_ID: -1\n",
      "° Celsius      \tCONCEPT_ID: 56389\n",
      ".              \tCONCEPT_ID: -1\n"
     ]
    }
   ],
   "source": [
    "# Requesting disambiguation of the second sentence, solution_as_chemical_mixture\n",
    "# Notice: the parameter for resource specifies the kind of exploration we want to perform on our documents.\n",
    "document = client.specific_resource_analysis(\n",
    "    body={\"document\": {\"text\": solution_as_chemical_mixture}}, \n",
    "    params={'language': 'en', 'resource': 'disambiguation'})\n",
    "\n",
    "# Producing and printing semantic tagging of the second sentence\n",
    "# Notice: to retrieve the textual form of the element we use document.content with slicing on element start and end chars\n",
    "print(f'Semantic tagging for \"{solution_as_chemical_mixture}\"\\n')\n",
    "for token in document.tokens:\n",
    "    print(f'{document.content[token.start:token.end]:{15}}\\tCONCEPT_ID: {token.syncon}')"
   ]
  },
  {
   "cell_type": "markdown",
   "metadata": {},
   "source": [
    "As expected, the lemma <i>solution</i> corresponds to a different concept id, indicating that the lemma used has a different meaning from the previous sentence."
   ]
  },
  {
   "cell_type": "markdown",
   "metadata": {},
   "source": [
    "## Conclusion\n",
    "NLP is hard because language is ambiguous: one word, one phrase or one sentence can mean different things depending on the context. With technologies such as expert.ai we can solve ambiguity and build solutions that are more accurate when dealing with the meaning of words."
   ]
  },
  {
   "cell_type": "code",
   "execution_count": null,
   "metadata": {},
   "outputs": [],
   "source": []
  }
 ],
 "metadata": {
  "kernelspec": {
   "display_name": "Python 3",
   "language": "python",
   "name": "python3"
  },
  "language_info": {
   "codemirror_mode": {
    "name": "ipython",
    "version": 3
   },
   "file_extension": ".py",
   "mimetype": "text/x-python",
   "name": "python",
   "nbconvert_exporter": "python",
   "pygments_lexer": "ipython3",
   "version": "3.8.2"
  }
 },
 "nbformat": 4,
 "nbformat_minor": 4
}
